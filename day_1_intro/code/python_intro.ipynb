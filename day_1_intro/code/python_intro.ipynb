{
 "cells": [
  {
   "cell_type": "markdown",
   "id": "17aa6b38",
   "metadata": {},
   "source": [
    "# Introduction to Python "
   ]
  },
  {
   "cell_type": "markdown",
   "id": "5695e288",
   "metadata": {},
   "source": [
    "Welcome to the Data Communications lab at UBC! We are excited that you will be joining us for the week. \n",
    "\n",
    "This week, you will be learning Python and exploring machine learning, but first we will need to go over the basics. "
   ]
  },
  {
   "cell_type": "markdown",
   "id": "8e93ce76",
   "metadata": {},
   "source": [
    "## What is Python?\n",
    "Python is a programming language that has been under development for over 25 years.  \n",
    "\n",
    "\n",
    "We will be using the Jupyter notebook for many activities this week. Every notebook has an associated language called the \"kernel\". We will be using in the Python 3 kernel from the IPython project. Jupyter notebooks allow us to work through python code in a managable and easy to visualize way. \n",
    "\n",
    "#### Using Jupyter Notebooks\n",
    "\n",
    "- **m**: Markdown is used for writing text rather than code. This key changes the selected cell to Markdown mode, allowing you to write text.\n",
    "\n",
    "- **y**: Changes the selected cell to code mode, allowing you to write and execute Python code.\n",
    "\n",
    "- **a**: Insert a new cell above the current cell.\n",
    "\n",
    "- **b**: Insert a new cell below the current cell.\n",
    "\n",
    "- **d, d**: (press the d key twice) Deletes the selected cell.\n",
    "\n",
    "- **Ctrl + Enter**: Executes the current cell and keeps the focus on the same cell.\n",
    "\n",
    "- **Shift + Enter**: Executes the current cell and moves to the next cell.\n",
    "\n",
    "- **Alt + Enter**: Executes the current cell and inserts a new cell below.\n",
    "\n",
    "- **h**: Opens the help dialog with a list of all keyboard shortcuts.\n",
    "\n",
    "- **Ctrl + s**: Saves the notebook.\n",
    "\n"
   ]
  },
  {
   "cell_type": "markdown",
   "id": "c674c881",
   "metadata": {},
   "source": [
    "### Statements \n",
    "Python is a language that consists of lines composed of statements. A statement can be:\n",
    "- a single expression\n",
    "- an assignment\n",
    "- a function call\n",
    "- a function definition\n",
    "- a statement; statement\n",
    "\n",
    "\n",
    "#### Experssions\n",
    "* Numbers\n",
    "  * integers\n",
    "  * floating-point\n",
    "  * complex numbers\n",
    "* strings\n",
    "* boolean values\n",
    "* lists and dicts\n"
   ]
  },
  {
   "cell_type": "markdown",
   "id": "95fdc25e",
   "metadata": {},
   "source": [
    "##### Numbers\n",
    "Number data types represent any traditional numerical value. "
   ]
  },
  {
   "cell_type": "code",
   "execution_count": null,
   "id": "07d7270c",
   "metadata": {},
   "outputs": [],
   "source": [
    "# The number 1 \n",
    "1"
   ]
  },
  {
   "cell_type": "code",
   "execution_count": null,
   "id": "d47c5510",
   "metadata": {},
   "outputs": [],
   "source": [
    "# The decimal .5\n",
    "0.5"
   ]
  },
  {
   "cell_type": "markdown",
   "id": "6b23f912",
   "metadata": {},
   "source": [
    "##### Strings\n",
    "String data types are a sequence of characters. They can be formed with '' or \"\""
   ]
  },
  {
   "cell_type": "code",
   "execution_count": null,
   "id": "9da23905",
   "metadata": {},
   "outputs": [],
   "source": [
    "'hello'"
   ]
  },
  {
   "cell_type": "code",
   "execution_count": null,
   "id": "8de39cab",
   "metadata": {
    "scrolled": true
   },
   "outputs": [],
   "source": [
    "'a'"
   ]
  },
  {
   "cell_type": "code",
   "execution_count": null,
   "id": "831ce103",
   "metadata": {},
   "outputs": [],
   "source": [
    "\"world\""
   ]
  },
  {
   "cell_type": "markdown",
   "id": "9d3d812e",
   "metadata": {},
   "source": [
    "##### Boolean Values\n",
    "A boolean data type is a data type that can hold one of two possible values: True or False, representing truth values."
   ]
  },
  {
   "cell_type": "code",
   "execution_count": null,
   "id": "df4c40b6",
   "metadata": {},
   "outputs": [],
   "source": [
    "False"
   ]
  },
  {
   "cell_type": "raw",
   "id": "6c09d5b3",
   "metadata": {},
   "source": [
    "True"
   ]
  },
  {
   "cell_type": "markdown",
   "id": "b48ed8c7",
   "metadata": {},
   "source": [
    "##### Lists \n",
    "In Python, a list is an ordered collection of items, which can be of different types, and is defined by enclosing the items in square brackets ([]), with each item separated by a comma. "
   ]
  },
  {
   "cell_type": "code",
   "execution_count": null,
   "id": "e6678df3",
   "metadata": {},
   "outputs": [],
   "source": [
    "[1,2,3,4,5]"
   ]
  },
  {
   "cell_type": "code",
   "execution_count": null,
   "id": "ba529cf1",
   "metadata": {},
   "outputs": [],
   "source": [
    "['apple', 'banana', 'orange', 'pear']"
   ]
  },
  {
   "cell_type": "markdown",
   "id": "5ee2f1f3",
   "metadata": {},
   "source": [
    "#### Indexing Lists\n",
    "We can index lists to get specific elements. For example, let us see what the first element of our list is. In Python, the first value is at index-0"
   ]
  },
  {
   "cell_type": "code",
   "execution_count": null,
   "id": "cd08f6a1",
   "metadata": {},
   "outputs": [],
   "source": [
    "# We can name the variable our_list to hold a list. \n",
    "our_list = ['apple', 'banana', 'orange', 'pear']\n",
    "our_list[0]"
   ]
  },
  {
   "cell_type": "code",
   "execution_count": null,
   "id": "b2637472",
   "metadata": {},
   "outputs": [],
   "source": [
    "# We can access the last element using -1\n",
    "our_list[-1]"
   ]
  },
  {
   "cell_type": "markdown",
   "id": "06c76830",
   "metadata": {},
   "source": [
    "### Input\n",
    "Inputs are used to ask a user."
   ]
  },
  {
   "cell_type": "code",
   "execution_count": null,
   "id": "30b10b65",
   "metadata": {},
   "outputs": [],
   "source": [
    "input(\"What is your name?\")"
   ]
  },
  {
   "cell_type": "markdown",
   "id": "26b630e9",
   "metadata": {},
   "source": [
    "### Functions\n",
    "Functions in python are used to preform a specific task. We can create our own functions or we can use built in functions. "
   ]
  },
  {
   "cell_type": "markdown",
   "id": "fb42de26",
   "metadata": {},
   "source": [
    "#### Built-in Functions"
   ]
  },
  {
   "cell_type": "code",
   "execution_count": null,
   "id": "ab4fc6b4",
   "metadata": {},
   "outputs": [],
   "source": [
    "# How long is this list?\n",
    "len(['apple', 'banana', 'orange', 'pear'])"
   ]
  },
  {
   "cell_type": "code",
   "execution_count": null,
   "id": "760a8fcf",
   "metadata": {
    "scrolled": true
   },
   "outputs": [],
   "source": [
    "# Call a function on a previously defined variable.\n",
    "len(our_list)"
   ]
  },
  {
   "cell_type": "code",
   "execution_count": null,
   "id": "d427e13d",
   "metadata": {},
   "outputs": [],
   "source": [
    "# Typical math functions can be used in Python. \n",
    "3+4"
   ]
  },
  {
   "cell_type": "code",
   "execution_count": null,
   "id": "cc84de08",
   "metadata": {},
   "outputs": [],
   "source": [
    "3*4"
   ]
  },
  {
   "cell_type": "code",
   "execution_count": null,
   "id": "3a9189f9",
   "metadata": {},
   "outputs": [],
   "source": [
    "A = 1\n",
    "B = 5\n",
    "C = A + B\n",
    "\n",
    "# Print can be used to display the value held by C\n",
    "print(C)"
   ]
  },
  {
   "cell_type": "markdown",
   "id": "927322df",
   "metadata": {},
   "source": [
    "#### Defining Functions\n",
    "We can define our own functions. "
   ]
  },
  {
   "cell_type": "code",
   "execution_count": null,
   "id": "7d7f5d69",
   "metadata": {},
   "outputs": [],
   "source": [
    "# def is used to define\n",
    "# plus is the name of our function\n",
    "# (a, b) - This tells us that we need two inputs to our function, a and b.\n",
    "# return gives us the output of the function we define\n",
    "\n",
    "def plus(a,b):\n",
    "    return a + b\n"
   ]
  },
  {
   "cell_type": "code",
   "execution_count": null,
   "id": "96d48251",
   "metadata": {},
   "outputs": [],
   "source": [
    "plus(3,4)"
   ]
  },
  {
   "cell_type": "markdown",
   "id": "54d176bd",
   "metadata": {},
   "source": [
    "# Logic Statements"
   ]
  },
  {
   "cell_type": "code",
   "execution_count": null,
   "id": "bff9c47f",
   "metadata": {},
   "outputs": [],
   "source": [
    "# We can use logic to compare values\n",
    "A = 1\n",
    "B = 2\n",
    "print(A > B)"
   ]
  },
  {
   "cell_type": "markdown",
   "id": "c69f1815",
   "metadata": {},
   "source": [
    "### If, Elif, and Else Statements\n",
    "Logic statements allow you to execute different blocks of code based on certain conditions. The if statement is used to test a condition, and if the condition is true, the code block inside the if statement is executed. You can use elif (short for \"else if\") and else to test multiple conditions."
   ]
  },
  {
   "cell_type": "code",
   "execution_count": null,
   "id": "f0436541",
   "metadata": {},
   "outputs": [],
   "source": [
    "# Define a variable\n",
    "age = 16\n",
    "\n",
    "# Check the condition\n",
    "if age < 13:\n",
    "    print(\"You are a child.\")\n",
    "elif age < 18:\n",
    "    print(\"You are a teenager.\")\n",
    "else:\n",
    "    print(\"You are an adult.\")"
   ]
  },
  {
   "cell_type": "markdown",
   "id": "7d1c8f24",
   "metadata": {},
   "source": [
    "### Your turn! \n",
    "Use the code below to create a program that will take a users grade and print the letter grade associated with it. "
   ]
  },
  {
   "cell_type": "code",
   "execution_count": null,
   "id": "3b8bb139",
   "metadata": {},
   "outputs": [],
   "source": [
    "# Get user input\n",
    "score = int(input(\"Enter your score (0-100): \"))\n",
    "\n",
    "# Determine the grade\n",
    "if score >= :\n",
    "    print()\n",
    "elif score >= :\n",
    "    print()\n",
    "elif score >= :\n",
    "    print()\n",
    "elif score >= :\n",
    "    print()\n",
    "else:\n",
    "    print()"
   ]
  },
  {
   "cell_type": "markdown",
   "id": "8a747593",
   "metadata": {},
   "source": [
    "## For Loops \n",
    "The for loop is used to iterate over a sequence (such as a list, tuple, or string) and execute a block of code for each item in the sequence."
   ]
  },
  {
   "cell_type": "code",
   "execution_count": null,
   "id": "c6acffd2",
   "metadata": {},
   "outputs": [],
   "source": [
    "# For Loop\n",
    "\n",
    "# Define a list\n",
    "fruits = [\"apple\", \"banana\", \"cherry\"]\n",
    "\n",
    "# Iterate over the list\n",
    "for fruit in fruits:\n",
    "    print(fruit)"
   ]
  },
  {
   "cell_type": "markdown",
   "id": "f43de78b",
   "metadata": {},
   "source": [
    "### Your turn! \n",
    "Write a program that prints the numbers 0 to 9 using a for loop. "
   ]
  },
  {
   "cell_type": "code",
   "execution_count": null,
   "id": "2de1bdf7",
   "metadata": {},
   "outputs": [],
   "source": [
    "# range is a built in function that returns a sequence of numbers starting from 0.\n",
    "for  in range():\n",
    "    print()"
   ]
  },
  {
   "cell_type": "markdown",
   "id": "8c0e571c",
   "metadata": {},
   "source": [
    "# Rock, Paper, Scissors\n",
    "Let's create our first Python game! We will be implementing our own version of Rock, Paper, Scissors. "
   ]
  },
  {
   "cell_type": "markdown",
   "id": "a86ab591",
   "metadata": {},
   "source": [
    "## Rules\n",
    "First, we need to consider the rules of our game. In this game, the computer will pick either rock, paper, or scissors, and you will do the same. What are the possible outcomes? Edit the following cell with the correct rules.\n"
   ]
  },
  {
   "cell_type": "markdown",
   "id": "e279028a",
   "metadata": {},
   "source": [
    "1. Rock vs. Scissors --> _________\n",
    "2. Rock vs. Paper --> _________\n",
    "3. Scissors vs. Paper --> _________"
   ]
  },
  {
   "cell_type": "markdown",
   "id": "3a4232bf",
   "metadata": {},
   "source": [
    "## Computer's Pick\n",
    "First, we need to create a way for the computer to randomly select one of the three moves. If this isn't random, the game wouldn't be fair!\n",
    "\n",
    "Some of the code has been left blank for you to fix!"
   ]
  },
  {
   "cell_type": "code",
   "execution_count": null,
   "id": "e54fb9a0",
   "metadata": {},
   "outputs": [],
   "source": [
    "# this loads the random module, which contains a random number generator. \n",
    "import random \n",
    "\n",
    "# You need to define the list of possible moves that the computer can take. \n",
    "RPS_moves = []\n",
    "\n",
    "# You need to specify the input to the function that randomly selects one of the moves. \n",
    "computer_pick = random.choice()\n",
    "\n",
    "# Now, display the computers pick\n",
    "print(computer_pick)"
   ]
  },
  {
   "cell_type": "markdown",
   "id": "3121ef99",
   "metadata": {},
   "source": [
    "## Player's Pick\n",
    "Next, we need to ask the user what they pick for their move. "
   ]
  },
  {
   "cell_type": "code",
   "execution_count": null,
   "id": "853353d2",
   "metadata": {},
   "outputs": [],
   "source": [
    "# Ask the user what their move is \n",
    "\n",
    "player_choice = input(\"Rock, paper or scissors?\")\n",
    "\n",
    "# Now, display the player's pick \n",
    "print(player_choice)"
   ]
  },
  {
   "cell_type": "markdown",
   "id": "62ad8f8e",
   "metadata": {},
   "source": [
    "## Who wins?\n",
    "Let's implement the rules to determine who will win. The first case has been done for you. You must fill in the other two cases. "
   ]
  },
  {
   "cell_type": "code",
   "execution_count": null,
   "id": "63450379",
   "metadata": {},
   "outputs": [],
   "source": [
    "# CASE 1 - Computer picks rock\n",
    "if computer_pick == 'rock':\n",
    "    \n",
    "    # Compare to the player's pick\n",
    "    if player_pick == 'rock':\n",
    "        print('Tie!')\n",
    "        \n",
    "    elif player_pick == 'paper':\n",
    "        print('You win!')\n",
    "            \n",
    "    elif player_pick == 'scissors':\n",
    "        print('Computer wins!')\n",
    "        \n",
    "    else: \n",
    "        print('Player did not select a valid move!')\n",
    "\n",
    "# CASE 2 - Computer picks paper\n",
    "elif computer_pick == :\n",
    "    \n",
    "    # Compare to the player's pick\n",
    "    if player_pick == :\n",
    "        print()\n",
    "        \n",
    "    elif player_pick == :\n",
    "        print()\n",
    "            \n",
    "    elif player_pick == :\n",
    "        print()\n",
    "        \n",
    "    else: \n",
    "        print('Player did not select a valid move!')\n",
    "        \n",
    "# CASE 2 - Computer picks scissors\n",
    "elif computer_pick == :\n",
    "    \n",
    "    # Compare to the player's pick\n",
    "    if player_pick == :\n",
    "        print()\n",
    "        \n",
    "    elif player_pick == :\n",
    "        print()\n",
    "            \n",
    "    elif player_pick == :\n",
    "        print()\n",
    "        \n",
    "    else: \n",
    "        print('Player did not select a valid move!')\n",
    "        \n",
    "else: \n",
    "    print('Computer did not select a valid move')"
   ]
  },
  {
   "cell_type": "markdown",
   "id": "3026b455",
   "metadata": {},
   "source": [
    "Now, use the code you create above to make the game! It shouldn't print the value that the computer picks before you select yours!"
   ]
  },
  {
   "cell_type": "code",
   "execution_count": null,
   "id": "3423ea55",
   "metadata": {},
   "outputs": [],
   "source": [
    "# Your game goes here. \n",
    "\n",
    "\n",
    "\n",
    "\n",
    "\n"
   ]
  },
  {
   "cell_type": "markdown",
   "id": "2ecbb982",
   "metadata": {},
   "source": [
    "# Guessing Game! \n",
    "Now, it is your time to design your own game! Using the template below, create a guessing game. \n"
   ]
  },
  {
   "cell_type": "code",
   "execution_count": null,
   "id": "62db04f8",
   "metadata": {},
   "outputs": [],
   "source": [
    "import random \n",
    "\n",
    "# Create your list of possible guesses. This can be a list of names, numbers, or anything that you want!\n",
    "\n",
    "possible_guesses = []\n",
    "\n",
    "# Get the computer to pick first\n",
    "computer_pick = random.choice()\n",
    "\n",
    "# Make your guess\n",
    "player_choice = input(\"What do you guess?\")\n",
    "\n",
    "# While statements execute a specified statement as long as the test condition evaluates to true\n",
    "while player_choice != computer_choice: \n",
    "    "
   ]
  }
 ],
 "metadata": {
  "kernelspec": {
   "display_name": "Python 3 (ipykernel)",
   "language": "python",
   "name": "python3"
  },
  "language_info": {
   "codemirror_mode": {
    "name": "ipython",
    "version": 3
   },
   "file_extension": ".py",
   "mimetype": "text/x-python",
   "name": "python",
   "nbconvert_exporter": "python",
   "pygments_lexer": "ipython3",
   "version": "3.9.6"
  }
 },
 "nbformat": 4,
 "nbformat_minor": 5
}
